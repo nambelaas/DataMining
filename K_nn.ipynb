{
  "nbformat": 4,
  "nbformat_minor": 0,
  "metadata": {
    "colab": {
      "name": "K-nn.ipynb",
      "provenance": [],
      "authorship_tag": "ABX9TyOCHE/oXNkZhivuluhiarBF",
      "include_colab_link": true
    },
    "kernelspec": {
      "name": "python3",
      "display_name": "Python 3"
    },
    "language_info": {
      "name": "python"
    }
  },
  "cells": [
    {
      "cell_type": "markdown",
      "metadata": {
        "id": "view-in-github",
        "colab_type": "text"
      },
      "source": [
        "<a href=\"https://colab.research.google.com/github/nambelaas/DataMining/blob/main/K_nn.ipynb\" target=\"_parent\"><img src=\"https://colab.research.google.com/assets/colab-badge.svg\" alt=\"Open In Colab\"/></a>"
      ]
    },
    {
      "cell_type": "code",
      "metadata": {
        "id": "lgvf7K5TcMS5"
      },
      "source": [
        "import numpy as np\n",
        "import matplotlib.pyplot as plt\n",
        "import pandas as pd"
      ],
      "execution_count": 22,
      "outputs": []
    },
    {
      "cell_type": "code",
      "metadata": {
        "id": "M_k9v9PnchLS"
      },
      "source": [
        "dataset = pd.read_csv('Salary_Data.csv')\n",
        "x = dataset.iloc[:, [2, 3]].values\n",
        "y = dataset.iloc[:, -1].values"
      ],
      "execution_count": 23,
      "outputs": []
    },
    {
      "cell_type": "code",
      "metadata": {
        "colab": {
          "base_uri": "https://localhost:8080/"
        },
        "id": "xKZ2oBVTdqFs",
        "outputId": "ef72792d-3c2e-4057-d36c-7695b5478184"
      },
      "source": [
        "print(x)"
      ],
      "execution_count": 24,
      "outputs": [
        {
          "output_type": "stream",
          "text": [
            "[[    10 122391]\n",
            " [    10 121872]\n",
            " [     9 112635]\n",
            " [     9 116969]\n",
            " [     9 109431]\n",
            " [     8 113812]\n",
            " [     9 105582]\n",
            " [     8 101302]\n",
            " [     7  98273]\n",
            " [     7  91738]\n",
            " [     6  93940]\n",
            " [     5  66029]\n",
            " [     3  54445]\n",
            " [     4  55794]\n",
            " [     3  56642]\n",
            " [     5  67938]\n",
            " [     6  81363]\n",
            " [     5  83088]\n",
            " [     4  56957]\n",
            " [     2  43525]\n",
            " [     3  64445]\n",
            " [     3  60150]\n",
            " [     4  57081]\n",
            " [     2  39891]\n",
            " [     4  57189]\n",
            " [     4  61111]\n",
            " [     4  63218]\n",
            " [     1  46205]\n",
            " [     1  37731]\n",
            " [     1  39343]]\n"
          ],
          "name": "stdout"
        }
      ]
    },
    {
      "cell_type": "code",
      "metadata": {
        "colab": {
          "base_uri": "https://localhost:8080/"
        },
        "id": "7c6Wv9EbdtWw",
        "outputId": "f9f39b72-4c2e-4bfb-eab3-321d777dda21"
      },
      "source": [
        "print(y)"
      ],
      "execution_count": 25,
      "outputs": [
        {
          "output_type": "stream",
          "text": [
            "[1 1 0 1 0 0 1 1 0 1 1 1 0 1 0 1 1 1 1 1 0 1 1 0 1 0 1 1 0 1]\n"
          ],
          "name": "stdout"
        }
      ]
    },
    {
      "cell_type": "code",
      "metadata": {
        "id": "9EkRvur3c93m"
      },
      "source": [
        "from sklearn.model_selection import train_test_split\n",
        "x_train, x_test, y_train, y_test = train_test_split(x, y, test_size = 0.25, random_state = 0)"
      ],
      "execution_count": 26,
      "outputs": []
    },
    {
      "cell_type": "code",
      "metadata": {
        "colab": {
          "base_uri": "https://localhost:8080/"
        },
        "id": "jzK1N1sXd7ID",
        "outputId": "fc1a638b-be02-4417-eaaf-07acbc28526e"
      },
      "source": [
        "print(x_train)"
      ],
      "execution_count": 27,
      "outputs": [
        {
          "output_type": "stream",
          "text": [
            "[[     5  83088]\n",
            " [     4  57081]\n",
            " [     8 113812]\n",
            " [     6  81363]\n",
            " [     7  98273]\n",
            " [     3  56642]\n",
            " [     2  39891]\n",
            " [     3  64445]\n",
            " [    10 121872]\n",
            " [     1  39343]\n",
            " [     9 105582]\n",
            " [     9 109431]\n",
            " [     4  56957]\n",
            " [     2  43525]\n",
            " [     7  91738]\n",
            " [     8 101302]\n",
            " [     4  61111]\n",
            " [     9 116969]\n",
            " [    10 122391]\n",
            " [     3  60150]\n",
            " [     5  67938]\n",
            " [     3  54445]]\n"
          ],
          "name": "stdout"
        }
      ]
    },
    {
      "cell_type": "code",
      "metadata": {
        "colab": {
          "base_uri": "https://localhost:8080/"
        },
        "id": "b1ajSlfKeGbc",
        "outputId": "b004c65b-d412-4f6b-ad62-58d2cee9c978"
      },
      "source": [
        "print(x_test)"
      ],
      "execution_count": 28,
      "outputs": [
        {
          "output_type": "stream",
          "text": [
            "[[     9 112635]\n",
            " [     1  37731]\n",
            " [     4  55794]\n",
            " [     6  93940]\n",
            " [     4  63218]\n",
            " [     4  57189]\n",
            " [     1  46205]\n",
            " [     5  66029]]\n"
          ],
          "name": "stdout"
        }
      ]
    },
    {
      "cell_type": "code",
      "metadata": {
        "colab": {
          "base_uri": "https://localhost:8080/"
        },
        "id": "ni0Eck7-eJWf",
        "outputId": "aa516c94-b71a-4373-ce7c-53f409d25bd7"
      },
      "source": [
        "print(y_train)"
      ],
      "execution_count": 29,
      "outputs": [
        {
          "output_type": "stream",
          "text": [
            "[1 1 0 1 0 0 0 0 1 1 1 0 1 1 1 1 0 1 1 1 1 0]\n"
          ],
          "name": "stdout"
        }
      ]
    },
    {
      "cell_type": "code",
      "metadata": {
        "colab": {
          "base_uri": "https://localhost:8080/"
        },
        "id": "WCcdhP6OeLzm",
        "outputId": "66c46040-e038-435e-f006-e649f151f35b"
      },
      "source": [
        "print(y_test)"
      ],
      "execution_count": 30,
      "outputs": [
        {
          "output_type": "stream",
          "text": [
            "[0 0 1 1 1 1 1 1]\n"
          ],
          "name": "stdout"
        }
      ]
    },
    {
      "cell_type": "code",
      "metadata": {
        "id": "AqjfjfRsdZoi"
      },
      "source": [
        "from sklearn.preprocessing import StandardScaler\n",
        "sc = StandardScaler()\n",
        "x_train = sc.fit_transform(x_train)\n",
        "x_test = sc.transform(x_test)"
      ],
      "execution_count": 31,
      "outputs": []
    },
    {
      "cell_type": "code",
      "metadata": {
        "colab": {
          "base_uri": "https://localhost:8080/"
        },
        "id": "sfIlzu3_eQa6",
        "outputId": "938679ad-a100-4728-938b-f98cadeb79fd"
      },
      "source": [
        "print(x_train)"
      ],
      "execution_count": 32,
      "outputs": [
        {
          "output_type": "stream",
          "text": [
            "[[-0.19538688  0.13377274]\n",
            " [-0.55359617 -0.81599097]\n",
            " [ 0.87924097  1.25579913]\n",
            " [ 0.1628224   0.07077653]\n",
            " [ 0.52103169  0.68832197]\n",
            " [-0.91180545 -0.83202305]\n",
            " [-1.27001474 -1.44376189]\n",
            " [-0.91180545 -0.54706107]\n",
            " [ 1.59565954  1.55014663]\n",
            " [-1.62822402 -1.46377459]\n",
            " [ 1.23745026  0.9552433 ]\n",
            " [ 1.23745026  1.09580702]\n",
            " [-0.55359617 -0.82051939]\n",
            " [-1.27001474 -1.31104987]\n",
            " [ 0.52103169  0.44966677]\n",
            " [ 0.87924097  0.79893967]\n",
            " [-0.55359617 -0.66881722]\n",
            " [ 1.23745026  1.37109132]\n",
            " [ 1.59565954  1.56910027]\n",
            " [-0.91180545 -0.7039125 ]\n",
            " [-0.19538688 -0.41949831]\n",
            " [-0.91180545 -0.91225648]]\n"
          ],
          "name": "stdout"
        }
      ]
    },
    {
      "cell_type": "code",
      "metadata": {
        "colab": {
          "base_uri": "https://localhost:8080/"
        },
        "id": "iEQnyZJteUHW",
        "outputId": "74dbbc42-390c-4e70-d5a9-aa142ff55214"
      },
      "source": [
        "print(x_test)"
      ],
      "execution_count": 33,
      "outputs": [
        {
          "output_type": "stream",
          "text": [
            "[[ 1.23745026  1.21281563]\n",
            " [-1.62822402 -1.5226441 ]\n",
            " [-0.55359617 -0.86299162]\n",
            " [ 0.1628224   0.5300828 ]\n",
            " [-0.55359617 -0.59187055]\n",
            " [-0.55359617 -0.81204686]\n",
            " [-1.62822402 -1.2131775 ]\n",
            " [-0.19538688 -0.48921412]]\n"
          ],
          "name": "stdout"
        }
      ]
    },
    {
      "cell_type": "code",
      "metadata": {
        "colab": {
          "base_uri": "https://localhost:8080/"
        },
        "id": "qqASufUMeWk-",
        "outputId": "73ac4031-3c83-4160-becb-c21d80efccbe"
      },
      "source": [
        "from sklearn.neighbors import KNeighborsClassifier\n",
        "classifier = KNeighborsClassifier(n_neighbors = 5, metric = 'minkowski', p = 2)\n",
        "classifier.fit(x_train, y_train)"
      ],
      "execution_count": 34,
      "outputs": [
        {
          "output_type": "execute_result",
          "data": {
            "text/plain": [
              "KNeighborsClassifier(algorithm='auto', leaf_size=30, metric='minkowski',\n",
              "                     metric_params=None, n_jobs=None, n_neighbors=5, p=2,\n",
              "                     weights='uniform')"
            ]
          },
          "metadata": {
            "tags": []
          },
          "execution_count": 34
        }
      ]
    },
    {
      "cell_type": "code",
      "metadata": {
        "id": "SjEcebWjfRuO"
      },
      "source": [
        "y_pred = classifier.predict(x_test)"
      ],
      "execution_count": 35,
      "outputs": []
    },
    {
      "cell_type": "code",
      "metadata": {
        "colab": {
          "base_uri": "https://localhost:8080/"
        },
        "id": "1-weyLVXfZGB",
        "outputId": "632410cf-1ebc-4dc6-e0b4-a309acd87101"
      },
      "source": [
        "from sklearn.metrics import confusion_matrix\n",
        "cm = confusion_matrix(y_test, y_pred)\n",
        "print(cm)"
      ],
      "execution_count": 36,
      "outputs": [
        {
          "output_type": "stream",
          "text": [
            "[[1 1]\n",
            " [3 3]]\n"
          ],
          "name": "stdout"
        }
      ]
    },
    {
      "cell_type": "code",
      "metadata": {
        "colab": {
          "base_uri": "https://localhost:8080/",
          "height": 349
        },
        "id": "8O2r4cLEfrF8",
        "outputId": "4cf987df-097e-449f-8f43-0b3eb0541d92"
      },
      "source": [
        "from matplotlib.colors import ListedColormap\n",
        "x_set, y_set = x_train, y_train\n",
        "x1, x2 = np.meshgrid(np.arange(start = x_set[:, 0].min() - 1, stop = x_set[:, 0].max() + 1, step = 0.01),\n",
        "                     np.arange(start = x_set[:, 1].min() - 1, stop = x_set[:, 1].max() + 1, step = 0.01))\n",
        "plt.contourf(x1,x2, classifier.predict(np.array([x1.ravel(), x2.ravel()]).T).reshape(x1.shape),\n",
        "            alpha = 0.75, cmap = ListedColormap(('red','green')))\n",
        "plt.xlim(x1.min(),x1.max())\n",
        "plt.xlim(x2.min(),x2.max())\n",
        "for i,j in enumerate(np.unique(y_set)):\n",
        "  plt.scatter(x_set[y_set == j, 0],x_set[y_set == j, 1],\n",
        "              c = ListedColormap(('red','green'))(i),label = j)\n",
        "plt.title('K-NN')\n",
        "plt.xlabel('YearsExperience')\n",
        "plt.ylabel('Salary')\n",
        "plt.legend()\n",
        "plt.show()"
      ],
      "execution_count": 39,
      "outputs": [
        {
          "output_type": "stream",
          "text": [
            "*c* argument looks like a single numeric RGB or RGBA sequence, which should be avoided as value-mapping will have precedence in case its length matches with *x* & *y*.  Please use the *color* keyword-argument or provide a 2-D array with a single row if you intend to specify the same RGB or RGBA value for all points.\n",
            "*c* argument looks like a single numeric RGB or RGBA sequence, which should be avoided as value-mapping will have precedence in case its length matches with *x* & *y*.  Please use the *color* keyword-argument or provide a 2-D array with a single row if you intend to specify the same RGB or RGBA value for all points.\n"
          ],
          "name": "stderr"
        },
        {
          "output_type": "display_data",
          "data": {
            "image/png": "[encoded data removed]",
            "text/plain": [
              "<Figure size 432x288 with 1 Axes>"
            ]
          },
          "metadata": {
            "tags": [],
            "needs_background": "light"
          }
        }
      ]
    },
    {
      "cell_type": "code",
      "metadata": {
        "colab": {
          "base_uri": "https://localhost:8080/",
          "height": 349
        },
        "id": "PakD-BB8gjtY",
        "outputId": "a0217aba-48ac-44eb-d59c-c21f23e3d040"
      },
      "source": [
        "from matplotlib.colors import ListedColormap\n",
        "x_set, y_set = x_test, y_test\n",
        "x1, x2 = np.meshgrid(np.arange(start = x_set[:, 0].min() - 1, stop = x_set[:, 0].max() + 1, step = 0.01),\n",
        "                     np.arange(start = x_set[:, 1].min() - 1, stop = x_set[:, 1].max() + 1, step = 0.01))\n",
        "plt.contourf(x1,x2, classifier.predict(np.array([x1.ravel(), x2.ravel()]).T).reshape(x1.shape),\n",
        "            alpha = 0.75, cmap = ListedColormap(('red','green')))\n",
        "plt.xlim(x1.min(),x1.max())\n",
        "plt.xlim(x2.min(),x2.max())\n",
        "for i,j in enumerate(np.unique(y_set)):\n",
        "  plt.scatter(x_set[y_set == j, 0],x_set[y_set == j, 1],\n",
        "              c = ListedColormap(('red','green'))(i),label = j)\n",
        "plt.title('K-NN')\n",
        "plt.xlabel('YearsExperience')\n",
        "plt.ylabel('Salary')\n",
        "plt.legend()\n",
        "plt.show()"
      ],
      "execution_count": 40,
      "outputs": [
        {
          "output_type": "stream",
          "text": [
            "*c* argument looks like a single numeric RGB or RGBA sequence, which should be avoided as value-mapping will have precedence in case its length matches with *x* & *y*.  Please use the *color* keyword-argument or provide a 2-D array with a single row if you intend to specify the same RGB or RGBA value for all points.\n",
            "*c* argument looks like a single numeric RGB or RGBA sequence, which should be avoided as value-mapping will have precedence in case its length matches with *x* & *y*.  Please use the *color* keyword-argument or provide a 2-D array with a single row if you intend to specify the same RGB or RGBA value for all points.\n"
          ],
          "name": "stderr"
        },
        {
          "output_type": "display_data",
          "data": {
            "image/png": "[encoded data removed]",
            "text/plain": [
              "<Figure size 432x288 with 1 Axes>"
            ]
          },
          "metadata": {
            "tags": [],
            "needs_background": "light"
          }
        }
      ]
    }
  ]
}