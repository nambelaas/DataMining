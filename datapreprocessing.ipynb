{
  "nbformat": 4,
  "nbformat_minor": 0,
  "metadata": {
    "colab": {
      "name": "Salinan dari datapreprocessing.ipynb",
      "provenance": [],
      "collapsed_sections": [],
      "authorship_tag": "ABX9TyOvJLHLyi4TCkPDU3h+vLjM",
      "include_colab_link": true
    },
    "kernelspec": {
      "name": "python3",
      "display_name": "Python 3"
    }
  },
  "cells": [
    {
      "cell_type": "markdown",
      "metadata": {
        "id": "view-in-github",
        "colab_type": "text"
      },
      "source": [
        "<a href=\"https://colab.research.google.com/github/nambelaas/DataMining/blob/main/datapreprocessing.ipynb\" target=\"_parent\"><img src=\"https://colab.research.google.com/assets/colab-badge.svg\" alt=\"Open In Colab\"/></a>"
      ]
    },
    {
      "cell_type": "code",
      "metadata": {
        "id": "zQCFdt2u54ip"
      },
      "source": [
        "import numpy as np\r\n",
        "import matplotlib.pyplot as plt\r\n",
        "import pandas as pd\r\n"
      ],
      "execution_count": 2,
      "outputs": []
    },
    {
      "cell_type": "markdown",
      "metadata": {
        "id": "7o3UjoZn8qL8"
      },
      "source": [
        "library numpy -> olah numerik di python\r\n",
        "library pandas -> import external file csv,excel,txt"
      ]
    },
    {
      "cell_type": "code",
      "metadata": {
        "id": "e4k5_Rop8lwk"
      },
      "source": [
        "dataset = pd.read_csv('Data.csv')\r\n",
        "x = dataset.iloc[:, :-1].values\r\n",
        "y = dataset.iloc[:, -1].values"
      ],
      "execution_count": 11,
      "outputs": []
    },
    {
      "cell_type": "code",
      "metadata": {
        "colab": {
          "base_uri": "https://localhost:8080/"
        },
        "id": "p6YKhg4cAHk6",
        "outputId": "b09d505e-fd00-4a69-f2eb-3c3ca4d8bdb3"
      },
      "source": [
        "print(x)"
      ],
      "execution_count": 12,
      "outputs": [
        {
          "output_type": "stream",
          "text": [
            "[['France' 44.0 72000.0]\n",
            " ['Spain' 27.0 48000.0]\n",
            " ['England' 30.0 nan]\n",
            " ['Spain' 38.0 61000.0]\n",
            " ['Germany' 40.0 nan]\n",
            " ['France' 24.0 58000.0]\n",
            " ['Spain' nan 52000.0]\n",
            " ['France' 48.0 79000.0]\n",
            " ['Germany' 46.0 83000.0]\n",
            " ['France' 37.0 67000.0]]\n"
          ],
          "name": "stdout"
        }
      ]
    },
    {
      "cell_type": "code",
      "metadata": {
        "colab": {
          "base_uri": "https://localhost:8080/"
        },
        "id": "yMcOZN9hAioC",
        "outputId": "b374b064-326d-49a3-8649-18bf62c7641d"
      },
      "source": [
        "print(y)"
      ],
      "execution_count": 13,
      "outputs": [
        {
          "output_type": "stream",
          "text": [
            "['No' 'Yes' 'No' 'No' 'Yes' 'No' 'No' 'Yes' 'No' 'Yes']\n"
          ],
          "name": "stdout"
        }
      ]
    },
    {
      "cell_type": "code",
      "metadata": {
        "id": "oIVT1QKBB30m"
      },
      "source": [
        "from sklearn.impute import SimpleImputer\r\n",
        "imputer = SimpleImputer(missing_values=np.nan, strategy='mean')\r\n",
        "imputer.fit(x[:, 1:3])\r\n",
        "x[:, 1:3] = imputer.transform(x[:, 1:3])"
      ],
      "execution_count": 15,
      "outputs": []
    },
    {
      "cell_type": "code",
      "metadata": {
        "colab": {
          "base_uri": "https://localhost:8080/"
        },
        "id": "rD4gTMzYCt84",
        "outputId": "c9c2c0e8-4ed7-450a-8d64-5532975c2705"
      },
      "source": [
        "print(x)"
      ],
      "execution_count": 16,
      "outputs": [
        {
          "output_type": "stream",
          "text": [
            "[['France' 44.0 72000.0]\n",
            " ['Spain' 27.0 48000.0]\n",
            " ['England' 30.0 65000.0]\n",
            " ['Spain' 38.0 61000.0]\n",
            " ['Germany' 40.0 65000.0]\n",
            " ['France' 24.0 58000.0]\n",
            " ['Spain' 37.111111111111114 52000.0]\n",
            " ['France' 48.0 79000.0]\n",
            " ['Germany' 46.0 83000.0]\n",
            " ['France' 37.0 67000.0]]\n"
          ],
          "name": "stdout"
        }
      ]
    },
    {
      "cell_type": "code",
      "metadata": {
        "id": "fYllZzx2CzwO"
      },
      "source": [
        "from sklearn.compose import ColumnTransformer\r\n",
        "from sklearn.preprocessing import OneHotEncoder\r\n",
        "ct = ColumnTransformer(transformers=[('encoder', OneHotEncoder(), [0])], remainder='passthrough')\r\n",
        "x = np.array(ct.fit_transform(x))"
      ],
      "execution_count": 17,
      "outputs": []
    },
    {
      "cell_type": "code",
      "metadata": {
        "colab": {
          "base_uri": "https://localhost:8080/"
        },
        "id": "Hr24ROvZDeT5",
        "outputId": "c9a2c4d4-fd81-46a0-a34f-860c5cbc3deb"
      },
      "source": [
        "print(x)"
      ],
      "execution_count": 18,
      "outputs": [
        {
          "output_type": "stream",
          "text": [
            "[[0.0 1.0 0.0 0.0 44.0 72000.0]\n",
            " [0.0 0.0 0.0 1.0 27.0 48000.0]\n",
            " [1.0 0.0 0.0 0.0 30.0 65000.0]\n",
            " [0.0 0.0 0.0 1.0 38.0 61000.0]\n",
            " [0.0 0.0 1.0 0.0 40.0 65000.0]\n",
            " [0.0 1.0 0.0 0.0 24.0 58000.0]\n",
            " [0.0 0.0 0.0 1.0 37.111111111111114 52000.0]\n",
            " [0.0 1.0 0.0 0.0 48.0 79000.0]\n",
            " [0.0 0.0 1.0 0.0 46.0 83000.0]\n",
            " [0.0 1.0 0.0 0.0 37.0 67000.0]]\n"
          ],
          "name": "stdout"
        }
      ]
    },
    {
      "cell_type": "code",
      "metadata": {
        "id": "mQDlcbiQD2b3"
      },
      "source": [
        "from sklearn.preprocessing import LabelEncoder\r\n",
        "le = LabelEncoder()\r\n",
        "y = le.fit_transform(y)"
      ],
      "execution_count": 19,
      "outputs": []
    },
    {
      "cell_type": "code",
      "metadata": {
        "colab": {
          "base_uri": "https://localhost:8080/"
        },
        "id": "ulHAOgUSEFRb",
        "outputId": "1a9e3421-1940-4aba-9fd9-6f2d0a0e2dba"
      },
      "source": [
        "print(y)"
      ],
      "execution_count": 20,
      "outputs": [
        {
          "output_type": "stream",
          "text": [
            "[0 1 0 0 1 0 0 1 0 1]\n"
          ],
          "name": "stdout"
        }
      ]
    },
    {
      "cell_type": "code",
      "metadata": {
        "id": "KNVJX1veFjbj"
      },
      "source": [
        "from sklearn.model_selection import train_test_split\r\n",
        "x_train, x_test, y_train, y_test = train_test_split(x, y, test_size = 0.2, random_state = 1)"
      ],
      "execution_count": 21,
      "outputs": []
    },
    {
      "cell_type": "code",
      "metadata": {
        "colab": {
          "base_uri": "https://localhost:8080/"
        },
        "id": "IbjLnukOF8Im",
        "outputId": "a25cee12-2dbe-482e-b9a3-3ae3a8959a48"
      },
      "source": [
        "print(x_train)"
      ],
      "execution_count": 22,
      "outputs": [
        {
          "output_type": "stream",
          "text": [
            "[[0.0 0.0 0.0 1.0 37.111111111111114 52000.0]\n",
            " [0.0 0.0 1.0 0.0 40.0 65000.0]\n",
            " [0.0 1.0 0.0 0.0 44.0 72000.0]\n",
            " [0.0 0.0 0.0 1.0 38.0 61000.0]\n",
            " [0.0 0.0 0.0 1.0 27.0 48000.0]\n",
            " [0.0 1.0 0.0 0.0 48.0 79000.0]\n",
            " [0.0 0.0 1.0 0.0 46.0 83000.0]\n",
            " [0.0 1.0 0.0 0.0 24.0 58000.0]]\n"
          ],
          "name": "stdout"
        }
      ]
    },
    {
      "cell_type": "code",
      "metadata": {
        "colab": {
          "base_uri": "https://localhost:8080/"
        },
        "id": "JTVWdByPGCJJ",
        "outputId": "e28a02b5-3fd5-4665-be01-2a96c8689c97"
      },
      "source": [
        "print(x_test)"
      ],
      "execution_count": 23,
      "outputs": [
        {
          "output_type": "stream",
          "text": [
            "[[1.0 0.0 0.0 0.0 30.0 65000.0]\n",
            " [0.0 1.0 0.0 0.0 37.0 67000.0]]\n"
          ],
          "name": "stdout"
        }
      ]
    },
    {
      "cell_type": "code",
      "metadata": {
        "colab": {
          "base_uri": "https://localhost:8080/"
        },
        "id": "38j7S671HXBr",
        "outputId": "0da0c995-e6ae-4070-bebe-62f09f2e8317"
      },
      "source": [
        "print(y_train)"
      ],
      "execution_count": 24,
      "outputs": [
        {
          "output_type": "stream",
          "text": [
            "[0 1 0 0 1 1 0 0]\n"
          ],
          "name": "stdout"
        }
      ]
    },
    {
      "cell_type": "code",
      "metadata": {
        "colab": {
          "base_uri": "https://localhost:8080/"
        },
        "id": "hPLHvkwfHcwE",
        "outputId": "62e59b33-63cb-4c95-a9cd-674e49242a4b"
      },
      "source": [
        "print(y_test)"
      ],
      "execution_count": 25,
      "outputs": [
        {
          "output_type": "stream",
          "text": [
            "[0 1]\n"
          ],
          "name": "stdout"
        }
      ]
    },
    {
      "cell_type": "code",
      "metadata": {
        "id": "qlp4kqL8IwKG"
      },
      "source": [
        "from sklearn.preprocessing import StandardScaler\r\n",
        "sc = StandardScaler()\r\n",
        "x_train[:, 3:] = sc.fit_transform(x_train[:, 3:])\r\n",
        "x_test[:, 3:] = sc.transform(x_test[:, 3:])"
      ],
      "execution_count": 26,
      "outputs": []
    },
    {
      "cell_type": "code",
      "metadata": {
        "colab": {
          "base_uri": "https://localhost:8080/"
        },
        "id": "0M4p5manJHqh",
        "outputId": "8fae5505-b990-48a4-ef6c-931b02dfc522"
      },
      "source": [
        "print(x_train)"
      ],
      "execution_count": 27,
      "outputs": [
        {
          "output_type": "stream",
          "text": [
            "[[0.0 0.0 0.0 1.2909944487358056 -0.11178372270284015 -1.0915491813053724]\n",
            " [0.0 0.0 1.0 -0.7745966692414834 0.24592418994625045 0.02140292512363475]\n",
            " [0.0 1.0 0.0 -0.7745966692414834 0.741212068998838 0.6206848285854079]\n",
            " [0.0 0.0 0.0 1.2909944487358056 -0.0017197495800433157\n",
            "  -0.3210438768545213]\n",
            " [0.0 0.0 0.0 1.2909944487358056 -1.363761416974659 -1.4339959832835285]\n",
            " [0.0 1.0 0.0 -0.7745966692414834 1.2364999480514256 1.219966732047181]\n",
            " [0.0 0.0 1.0 -0.7745966692414834 0.9888560085251318 1.562413534025337]\n",
            " [0.0 1.0 0.0 -0.7745966692414834 -1.7352273262640996 -0.5778789783381383]]\n"
          ],
          "name": "stdout"
        }
      ]
    },
    {
      "cell_type": "code",
      "metadata": {
        "colab": {
          "base_uri": "https://localhost:8080/"
        },
        "id": "aJHq8dj3JK0C",
        "outputId": "af4a77af-c4f7-4eea-8872-4dd46736adb8"
      },
      "source": [
        "print(x_test)"
      ],
      "execution_count": 28,
      "outputs": [
        {
          "output_type": "stream",
          "text": [
            "[[1.0 0.0 0.0 -0.7745966692414834 -0.9922955076852183 0.02140292512363475]\n",
            " [0.0 1.0 0.0 -0.7745966692414834 -0.1255417193431902 0.19262632611271277]]\n"
          ],
          "name": "stdout"
        }
      ]
    }
  ]
}