{
  "nbformat": 4,
  "nbformat_minor": 0,
  "metadata": {
    "colab": {
      "name": "RegresiLinear(DataTinggi&BeratBadan).ipynb",
      "provenance": [],
      "authorship_tag": "ABX9TyPSNpoTPFE5vt26znjgjDBF",
      "include_colab_link": true
    },
    "kernelspec": {
      "name": "python3",
      "display_name": "Python 3"
    },
    "language_info": {
      "name": "python"
    }
  },
  "cells": [
    {
      "cell_type": "markdown",
      "metadata": {
        "id": "view-in-github",
        "colab_type": "text"
      },
      "source": [
        "<a href=\"https://colab.research.google.com/github/nambelaas/DataMining/blob/main/RegresiLinear(DataTinggi%26BeratBadan).ipynb\" target=\"_parent\"><img src=\"https://colab.research.google.com/assets/colab-badge.svg\" alt=\"Open In Colab\"/></a>"
      ]
    },
    {
      "cell_type": "code",
      "metadata": {
        "id": "HuYrHLTBHLhU"
      },
      "source": [
        "#import Library yang diperlukan scipy\n",
        "from scipy import stats"
      ],
      "execution_count": null,
      "outputs": []
    },
    {
      "cell_type": "code",
      "metadata": {
        "id": "P24nSaLXHmV0"
      },
      "source": [
        "#x = data tinggi badan (cm)\n",
        "x = [151,174,138,186,128,136,179,163,152,131]"
      ],
      "execution_count": null,
      "outputs": []
    },
    {
      "cell_type": "code",
      "metadata": {
        "id": "afWEkS09HwLP"
      },
      "source": [
        "#y = data berat badan(kg)\n",
        "y = [63,81,56,91,47,57,76,72,62,48]"
      ],
      "execution_count": null,
      "outputs": []
    },
    {
      "cell_type": "code",
      "metadata": {
        "id": "Fxpe9mKnH5BO"
      },
      "source": [
        "slope, intercept, r, p, std_err = stats.linregress(x,y)"
      ],
      "execution_count": null,
      "outputs": []
    },
    {
      "cell_type": "code",
      "metadata": {
        "id": "ZMZqFOuHIA7Y"
      },
      "source": [
        "#Buat fungsi linear regresi -> y = 0.67461045 x= 38.45508707607701\n",
        "def myfunc(x):\n",
        "  return slope * x + intercept"
      ],
      "execution_count": null,
      "outputs": []
    },
    {
      "cell_type": "code",
      "metadata": {
        "id": "qooN9Ec7IRU1"
      },
      "source": [
        "berat_badan = myfunc(151)"
      ],
      "execution_count": null,
      "outputs": []
    },
    {
      "cell_type": "code",
      "metadata": {
        "colab": {
          "base_uri": "https://localhost:8080/"
        },
        "id": "BZsehdzpIUmK",
        "outputId": "e407c1b9-da9c-4b3d-f64d-5d37dcb393ad"
      },
      "source": [
        "print(berat_badan)"
      ],
      "execution_count": null,
      "outputs": [
        {
          "output_type": "stream",
          "text": [
            "63.41109074243812\n"
          ],
          "name": "stdout"
        }
      ]
    }
  ]
}