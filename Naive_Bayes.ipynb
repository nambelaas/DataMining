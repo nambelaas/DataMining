{
  "nbformat": 4,
  "nbformat_minor": 0,
  "metadata": {
    "colab": {
      "name": "Naive_Bayes.ipynb",
      "provenance": [],
      "collapsed_sections": []
    },
    "kernelspec": {
      "name": "python3",
      "display_name": "Python 3"
    },
    "language_info": {
      "name": "python"
    }
  },
  "cells": [
    {
      "cell_type": "code",
      "metadata": {
        "id": "yjddy2mfCz5P"
      },
      "source": [
        "import numpy as np\n",
        "import matplotlib.pyplot as plt\n",
        "import pandas as pd"
      ],
      "execution_count": 66,
      "outputs": []
    },
    {
      "cell_type": "code",
      "metadata": {
        "id": "zCeIQEuVDSaS"
      },
      "source": [
        "dataset = pd.read_csv('Salary_Data.csv')\n",
        "x = dataset.iloc[:, [2,3]].values\n",
        "y = dataset.iloc[:, -1].values"
      ],
      "execution_count": 67,
      "outputs": []
    },
    {
      "cell_type": "markdown",
      "metadata": {
        "id": "RKIj4qGabNm0"
      },
      "source": [
        "Menggunakan data dari YearsExperience & Salary"
      ]
    },
    {
      "cell_type": "code",
      "metadata": {
        "colab": {
          "base_uri": "https://localhost:8080/"
        },
        "id": "X_2W859tEEXF",
        "outputId": "7444d25b-3f29-4169-c551-f394ca610ceb"
      },
      "source": [
        "print(x)"
      ],
      "execution_count": 68,
      "outputs": [
        {
          "output_type": "stream",
          "text": [
            "[[    10 122391]\n",
            " [    10 121872]\n",
            " [     9 112635]\n",
            " [     9 116969]\n",
            " [     9 109431]\n",
            " [     8 113812]\n",
            " [     9 105582]\n",
            " [     8 101302]\n",
            " [     7  98273]\n",
            " [     7  91738]\n",
            " [     6  93940]\n",
            " [     5  66029]\n",
            " [     3  54445]\n",
            " [     4  55794]\n",
            " [     3  56642]\n",
            " [     5  67938]\n",
            " [     6  81363]\n",
            " [     5  83088]\n",
            " [     4  56957]\n",
            " [     2  43525]\n",
            " [     3  64445]\n",
            " [     3  60150]\n",
            " [     4  57081]\n",
            " [     2  39891]\n",
            " [     4  57189]\n",
            " [     4  61111]\n",
            " [     4  63218]\n",
            " [     1  46205]\n",
            " [     1  37731]\n",
            " [     1  39343]]\n"
          ],
          "name": "stdout"
        }
      ]
    },
    {
      "cell_type": "code",
      "metadata": {
        "colab": {
          "base_uri": "https://localhost:8080/"
        },
        "id": "hOPOaK2kEnFs",
        "outputId": "3b4af2b6-7276-41cd-f23d-3ec8546ae40b"
      },
      "source": [
        "print(y)"
      ],
      "execution_count": 69,
      "outputs": [
        {
          "output_type": "stream",
          "text": [
            "[1 1 0 1 0 0 1 1 0 1 1 1 0 1 0 1 1 1 1 1 0 1 1 0 1 0 1 1 0 1]\n"
          ],
          "name": "stdout"
        }
      ]
    },
    {
      "cell_type": "code",
      "metadata": {
        "id": "6DUz-RV5Epqi"
      },
      "source": [
        "from sklearn.model_selection import train_test_split\n",
        "x_train, x_test, y_train, y_test = train_test_split(x, y, test_size=0.25, random_state=0)"
      ],
      "execution_count": 70,
      "outputs": []
    },
    {
      "cell_type": "code",
      "metadata": {
        "colab": {
          "base_uri": "https://localhost:8080/"
        },
        "id": "w4YFtOWcE_Ue",
        "outputId": "a6ff2656-a862-407f-da4a-d1bdefd5934c"
      },
      "source": [
        "print(x_train)"
      ],
      "execution_count": 71,
      "outputs": [
        {
          "output_type": "stream",
          "text": [
            "[[     5  83088]\n",
            " [     4  57081]\n",
            " [     8 113812]\n",
            " [     6  81363]\n",
            " [     7  98273]\n",
            " [     3  56642]\n",
            " [     2  39891]\n",
            " [     3  64445]\n",
            " [    10 121872]\n",
            " [     1  39343]\n",
            " [     9 105582]\n",
            " [     9 109431]\n",
            " [     4  56957]\n",
            " [     2  43525]\n",
            " [     7  91738]\n",
            " [     8 101302]\n",
            " [     4  61111]\n",
            " [     9 116969]\n",
            " [    10 122391]\n",
            " [     3  60150]\n",
            " [     5  67938]\n",
            " [     3  54445]]\n"
          ],
          "name": "stdout"
        }
      ]
    },
    {
      "cell_type": "code",
      "metadata": {
        "colab": {
          "base_uri": "https://localhost:8080/"
        },
        "id": "uqDz2H7LFFWP",
        "outputId": "4ff195cf-d9b3-4d04-c276-e73cdeaa2840"
      },
      "source": [
        "print(x_test)"
      ],
      "execution_count": 72,
      "outputs": [
        {
          "output_type": "stream",
          "text": [
            "[[     9 112635]\n",
            " [     1  37731]\n",
            " [     4  55794]\n",
            " [     6  93940]\n",
            " [     4  63218]\n",
            " [     4  57189]\n",
            " [     1  46205]\n",
            " [     5  66029]]\n"
          ],
          "name": "stdout"
        }
      ]
    },
    {
      "cell_type": "code",
      "metadata": {
        "colab": {
          "base_uri": "https://localhost:8080/"
        },
        "id": "Ufp__LvbFK_Q",
        "outputId": "87536600-c7fd-423b-fd28-22fd61553ce6"
      },
      "source": [
        "print(y_train)"
      ],
      "execution_count": 73,
      "outputs": [
        {
          "output_type": "stream",
          "text": [
            "[1 1 0 1 0 0 0 0 1 1 1 0 1 1 1 1 0 1 1 1 1 0]\n"
          ],
          "name": "stdout"
        }
      ]
    },
    {
      "cell_type": "code",
      "metadata": {
        "colab": {
          "base_uri": "https://localhost:8080/"
        },
        "id": "jffKdiAxFOKc",
        "outputId": "c9a98ff2-a486-4ec1-ba07-96a171d2906d"
      },
      "source": [
        "print(y_test)"
      ],
      "execution_count": 74,
      "outputs": [
        {
          "output_type": "stream",
          "text": [
            "[0 0 1 1 1 1 1 1]\n"
          ],
          "name": "stdout"
        }
      ]
    },
    {
      "cell_type": "code",
      "metadata": {
        "id": "-sN8QXsEFSbK"
      },
      "source": [
        "from sklearn.preprocessing import StandardScaler\n",
        "sc = StandardScaler()\n",
        "x_train = sc.fit_transform(x_train)\n",
        "x_test = sc.fit_transform(x_test)"
      ],
      "execution_count": 75,
      "outputs": []
    },
    {
      "cell_type": "code",
      "metadata": {
        "colab": {
          "base_uri": "https://localhost:8080/"
        },
        "id": "D25KUWRTFz7J",
        "outputId": "00c34b90-fd7a-4809-c709-a3568b0203e2"
      },
      "source": [
        "print(x_train)"
      ],
      "execution_count": 76,
      "outputs": [
        {
          "output_type": "stream",
          "text": [
            "[[-0.19538688  0.13377274]\n",
            " [-0.55359617 -0.81599097]\n",
            " [ 0.87924097  1.25579913]\n",
            " [ 0.1628224   0.07077653]\n",
            " [ 0.52103169  0.68832197]\n",
            " [-0.91180545 -0.83202305]\n",
            " [-1.27001474 -1.44376189]\n",
            " [-0.91180545 -0.54706107]\n",
            " [ 1.59565954  1.55014663]\n",
            " [-1.62822402 -1.46377459]\n",
            " [ 1.23745026  0.9552433 ]\n",
            " [ 1.23745026  1.09580702]\n",
            " [-0.55359617 -0.82051939]\n",
            " [-1.27001474 -1.31104987]\n",
            " [ 0.52103169  0.44966677]\n",
            " [ 0.87924097  0.79893967]\n",
            " [-0.55359617 -0.66881722]\n",
            " [ 1.23745026  1.37109132]\n",
            " [ 1.59565954  1.56910027]\n",
            " [-0.91180545 -0.7039125 ]\n",
            " [-0.19538688 -0.41949831]\n",
            " [-0.91180545 -0.91225648]]\n"
          ],
          "name": "stdout"
        }
      ]
    },
    {
      "cell_type": "code",
      "metadata": {
        "colab": {
          "base_uri": "https://localhost:8080/"
        },
        "id": "4UplnB1qGHrg",
        "outputId": "e000cd91-91ce-45ff-fa53-bf6521ac2a43"
      },
      "source": [
        "print(x_test)"
      ],
      "execution_count": 77,
      "outputs": [
        {
          "output_type": "stream",
          "text": [
            "[[ 1.94935887  1.97833458]\n",
            " [-1.33377186 -1.24011741]\n",
            " [-0.10259784 -0.46399199]\n",
            " [ 0.71818485  1.17505358]\n",
            " [-0.10259784 -0.14499985]\n",
            " [-0.10259784 -0.40405206]\n",
            " [-1.33377186 -0.87600919]\n",
            " [ 0.30779351 -0.02421767]]\n"
          ],
          "name": "stdout"
        }
      ]
    },
    {
      "cell_type": "code",
      "metadata": {
        "colab": {
          "base_uri": "https://localhost:8080/"
        },
        "id": "_brerSB4GK8C",
        "outputId": "6f3c5ff5-402b-4245-8a7d-3085ff1f4e4f"
      },
      "source": [
        "from sklearn.naive_bayes import GaussianNB\n",
        "classifier = GaussianNB()\n",
        "classifier.fit(x_train, y_train)"
      ],
      "execution_count": 78,
      "outputs": [
        {
          "output_type": "execute_result",
          "data": {
            "text/plain": [
              "GaussianNB(priors=None, var_smoothing=1e-09)"
            ]
          },
          "metadata": {
            "tags": []
          },
          "execution_count": 78
        }
      ]
    },
    {
      "cell_type": "code",
      "metadata": {
        "id": "cC4P5bHpHLte"
      },
      "source": [
        "y_pred = classifier.predict(x_test)"
      ],
      "execution_count": 79,
      "outputs": []
    },
    {
      "cell_type": "code",
      "metadata": {
        "colab": {
          "base_uri": "https://localhost:8080/"
        },
        "id": "ZYH8gsw3H_lF",
        "outputId": "da2ff0cc-a544-4095-bd50-fab663c0368c"
      },
      "source": [
        "from sklearn.metrics import confusion_matrix\n",
        "cm = confusion_matrix(y_test, y_pred)\n",
        "print(cm)"
      ],
      "execution_count": 80,
      "outputs": [
        {
          "output_type": "stream",
          "text": [
            "[[1 1]\n",
            " [1 5]]\n"
          ],
          "name": "stdout"
        }
      ]
    },
    {
      "cell_type": "code",
      "metadata": {
        "colab": {
          "base_uri": "https://localhost:8080/",
          "height": 349
        },
        "id": "HCBf8zuuI2Oa",
        "outputId": "42f44c7a-cc38-4c38-d975-598ceaa6bf94"
      },
      "source": [
        "from matplotlib.colors import ListedColormap\n",
        "x_set, y_set = x_train, y_train\n",
        "x1, x2 = np.meshgrid(np.arange(start = x_set[:, 0].min() - 1, stop = x_set[:, 0].max() + 1, step = 0.01),\n",
        "                     np.arange(start = x_set[:, 1].min() - 1, stop = x_set[:, 1].max() + 1, step = 0.01))\n",
        "plt.contourf(x1,x2, classifier.predict(np.array([x1.ravel(), x2.ravel()]).T).reshape(x1.shape),\n",
        "            alpha = 0.75, cmap = ListedColormap(('red','green')))\n",
        "plt.xlim(x1.min(),x1.max())\n",
        "plt.xlim(x2.min(),x2.max())\n",
        "for i,j in enumerate(np.unique(y_set)):\n",
        "  plt.scatter(x_set[y_set == j, 0],x_set[y_set == j, 1],\n",
        "              c = ListedColormap(('red','green'))(i),label = j)\n",
        "plt.title('Klasifikasi Data dengan Naive Bayes(Data Training)')\n",
        "plt.xlabel('Years Experience')\n",
        "plt.ylabel('Salary')\n",
        "plt.legend()\n",
        "plt.show()"
      ],
      "execution_count": 81,
      "outputs": [
        {
          "output_type": "stream",
          "text": [
            "*c* argument looks like a single numeric RGB or RGBA sequence, which should be avoided as value-mapping will have precedence in case its length matches with *x* & *y*.  Please use the *color* keyword-argument or provide a 2-D array with a single row if you intend to specify the same RGB or RGBA value for all points.\n",
            "*c* argument looks like a single numeric RGB or RGBA sequence, which should be avoided as value-mapping will have precedence in case its length matches with *x* & *y*.  Please use the *color* keyword-argument or provide a 2-D array with a single row if you intend to specify the same RGB or RGBA value for all points.\n"
          ],
          "name": "stderr"
        },
        {
          "output_type": "display_data",
          "data": {
            "image/png": "[encoded data removed]",
            "text/plain": [
              "<Figure size 432x288 with 1 Axes>"
            ]
          },
          "metadata": {
            "tags": [],
            "needs_background": "light"
          }
        }
      ]
    },
    {
      "cell_type": "code",
      "metadata": {
        "colab": {
          "base_uri": "https://localhost:8080/",
          "height": 349
        },
        "id": "FMkEyLAlN0U0",
        "outputId": "9d4918ee-dbce-4a5e-8616-63cc1c19124b"
      },
      "source": [
        "from matplotlib.colors import ListedColormap\n",
        "x_set, y_set = x_test, y_test\n",
        "x1, x2 = np.meshgrid(np.arange(start = x_set[:, 0].min() - 1, stop = x_set[:, 0].max() + 1, step = 0.01),\n",
        "                     np.arange(start = x_set[:, 1].min() - 1, stop = x_set[:, 1].max() + 1, step = 0.01))\n",
        "plt.contourf(x1,x2, classifier.predict(np.array([x1.ravel(), x2.ravel()]).T).reshape(x1.shape),\n",
        "            alpha = 0.75, cmap = ListedColormap(('red','green')))\n",
        "plt.xlim(x1.min(),x1.max())\n",
        "plt.xlim(x2.min(),x2.max())\n",
        "for i,j in enumerate(np.unique(y_set)):\n",
        "  plt.scatter(x_set[y_set == j, 0],x_set[y_set == j, 1],\n",
        "              c = ListedColormap(('red','green'))(i),label = j)\n",
        "plt.title('Klasifikasi Data dengan Naive Bayes(Data Training)')\n",
        "plt.xlabel('Years Experience')\n",
        "plt.ylabel('Salary')\n",
        "plt.legend()\n",
        "plt.show()"
      ],
      "execution_count": 82,
      "outputs": [
        {
          "output_type": "stream",
          "text": [
            "*c* argument looks like a single numeric RGB or RGBA sequence, which should be avoided as value-mapping will have precedence in case its length matches with *x* & *y*.  Please use the *color* keyword-argument or provide a 2-D array with a single row if you intend to specify the same RGB or RGBA value for all points.\n",
            "*c* argument looks like a single numeric RGB or RGBA sequence, which should be avoided as value-mapping will have precedence in case its length matches with *x* & *y*.  Please use the *color* keyword-argument or provide a 2-D array with a single row if you intend to specify the same RGB or RGBA value for all points.\n"
          ],
          "name": "stderr"
        },
        {
          "output_type": "display_data",
          "data": {
            "image/png": "[encoded data removed]",
            "text/plain": [
              "<Figure size 432x288 with 1 Axes>"
            ]
          },
          "metadata": {
            "tags": [],
            "needs_background": "light"
          }
        }
      ]
    }
  ]
}